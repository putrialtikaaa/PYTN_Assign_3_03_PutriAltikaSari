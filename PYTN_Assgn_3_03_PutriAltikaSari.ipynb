{
 "cells": [
  {
   "cell_type": "markdown",
   "id": "8d994883",
   "metadata": {},
   "source": [
    "# Data"
   ]
  },
  {
   "cell_type": "markdown",
   "id": "4ff662c7",
   "metadata": {},
   "source": [
    "Dataset bank.csv terkait dengan kampanye pemasaran langsung dari lembaga perbankan Portugis didasarkan pada panggilan telepon. Seringkali, lebih dari satu kontak ke klien yang sama diperlukan, untuk mengakses apakah produk (deposito berjangka bank) akan ('ya') atau tidak ('tidak') berlangganan. Tujuan klasifikasi adalah untuk memprediksi apakah klien akan berlangganan (ya/tidak) deposito berjangka (variabel y)."
   ]
  },
  {
   "cell_type": "markdown",
   "id": "4a966268",
   "metadata": {},
   "source": [
    "# Import Libraries"
   ]
  },
  {
   "cell_type": "code",
   "execution_count": 57,
   "id": "32cdcfd1",
   "metadata": {},
   "outputs": [],
   "source": [
    "import numpy as np\n",
    "import pandas as pd\n",
    "import seaborn as sns\n",
    "import sklearn.tree as tree\n",
    "import pydotplus\n",
    "import matplotlib.pyplot as plt\n",
    "%matplotlib inline\n",
    "\n",
    "from sklearn import svm\n",
    "from six import StringIO\n",
    "from sklearn import metrics\n",
    "from IPython.display import Image\n",
    "from sklearn import preprocessing\n",
    "from sklearn.tree import DecisionTreeClassifier\n",
    "from sklearn.neighbors import KNeighborsClassifier\n",
    "from sklearn.ensemble import RandomForestClassifier\n",
    "from sklearn.naive_bayes import GaussianNB\n",
    "from sklearn.model_selection import train_test_split\n",
    "from sklearn.metrics import classification_report\n",
    "from sklearn.preprocessing import StandardScaler\n",
    "from sklearn.preprocessing import LabelEncoder\n",
    "from sklearn.metrics import accuracy_score\n",
    "from sklearn.metrics import confusion_matrix\n",
    "from sklearn.metrics import plot_confusion_matrix\n",
    "from sklearn.linear_model import LogisticRegression"
   ]
  },
  {
   "cell_type": "markdown",
   "id": "afaa6ea4",
   "metadata": {},
   "source": [
    "# Read Data"
   ]
  },
  {
   "cell_type": "code",
   "execution_count": 58,
   "id": "1018f635",
   "metadata": {
    "scrolled": true
   },
   "outputs": [
    {
     "data": {
      "text/html": [
       "<div>\n",
       "<style scoped>\n",
       "    .dataframe tbody tr th:only-of-type {\n",
       "        vertical-align: middle;\n",
       "    }\n",
       "\n",
       "    .dataframe tbody tr th {\n",
       "        vertical-align: top;\n",
       "    }\n",
       "\n",
       "    .dataframe thead th {\n",
       "        text-align: right;\n",
       "    }\n",
       "</style>\n",
       "<table border=\"1\" class=\"dataframe\">\n",
       "  <thead>\n",
       "    <tr style=\"text-align: right;\">\n",
       "      <th></th>\n",
       "      <th>age</th>\n",
       "      <th>job</th>\n",
       "      <th>marital</th>\n",
       "      <th>education</th>\n",
       "      <th>default</th>\n",
       "      <th>balance</th>\n",
       "      <th>housing</th>\n",
       "      <th>loan</th>\n",
       "      <th>contact</th>\n",
       "      <th>day</th>\n",
       "      <th>month</th>\n",
       "      <th>duration</th>\n",
       "      <th>campaign</th>\n",
       "      <th>pdays</th>\n",
       "      <th>previous</th>\n",
       "      <th>poutcome</th>\n",
       "      <th>y</th>\n",
       "    </tr>\n",
       "  </thead>\n",
       "  <tbody>\n",
       "    <tr>\n",
       "      <th>0</th>\n",
       "      <td>30</td>\n",
       "      <td>unemployed</td>\n",
       "      <td>married</td>\n",
       "      <td>primary</td>\n",
       "      <td>no</td>\n",
       "      <td>1787</td>\n",
       "      <td>no</td>\n",
       "      <td>no</td>\n",
       "      <td>cellular</td>\n",
       "      <td>19</td>\n",
       "      <td>oct</td>\n",
       "      <td>79</td>\n",
       "      <td>1</td>\n",
       "      <td>-1</td>\n",
       "      <td>0</td>\n",
       "      <td>unknown</td>\n",
       "      <td>no</td>\n",
       "    </tr>\n",
       "    <tr>\n",
       "      <th>1</th>\n",
       "      <td>33</td>\n",
       "      <td>services</td>\n",
       "      <td>married</td>\n",
       "      <td>secondary</td>\n",
       "      <td>no</td>\n",
       "      <td>4789</td>\n",
       "      <td>yes</td>\n",
       "      <td>yes</td>\n",
       "      <td>cellular</td>\n",
       "      <td>11</td>\n",
       "      <td>may</td>\n",
       "      <td>220</td>\n",
       "      <td>1</td>\n",
       "      <td>339</td>\n",
       "      <td>4</td>\n",
       "      <td>failure</td>\n",
       "      <td>no</td>\n",
       "    </tr>\n",
       "    <tr>\n",
       "      <th>2</th>\n",
       "      <td>35</td>\n",
       "      <td>management</td>\n",
       "      <td>single</td>\n",
       "      <td>tertiary</td>\n",
       "      <td>no</td>\n",
       "      <td>1350</td>\n",
       "      <td>yes</td>\n",
       "      <td>no</td>\n",
       "      <td>cellular</td>\n",
       "      <td>16</td>\n",
       "      <td>apr</td>\n",
       "      <td>185</td>\n",
       "      <td>1</td>\n",
       "      <td>330</td>\n",
       "      <td>1</td>\n",
       "      <td>failure</td>\n",
       "      <td>no</td>\n",
       "    </tr>\n",
       "    <tr>\n",
       "      <th>3</th>\n",
       "      <td>30</td>\n",
       "      <td>management</td>\n",
       "      <td>married</td>\n",
       "      <td>tertiary</td>\n",
       "      <td>no</td>\n",
       "      <td>1476</td>\n",
       "      <td>yes</td>\n",
       "      <td>yes</td>\n",
       "      <td>unknown</td>\n",
       "      <td>3</td>\n",
       "      <td>jun</td>\n",
       "      <td>199</td>\n",
       "      <td>4</td>\n",
       "      <td>-1</td>\n",
       "      <td>0</td>\n",
       "      <td>unknown</td>\n",
       "      <td>no</td>\n",
       "    </tr>\n",
       "    <tr>\n",
       "      <th>4</th>\n",
       "      <td>59</td>\n",
       "      <td>blue-collar</td>\n",
       "      <td>married</td>\n",
       "      <td>secondary</td>\n",
       "      <td>no</td>\n",
       "      <td>0</td>\n",
       "      <td>yes</td>\n",
       "      <td>no</td>\n",
       "      <td>unknown</td>\n",
       "      <td>5</td>\n",
       "      <td>may</td>\n",
       "      <td>226</td>\n",
       "      <td>1</td>\n",
       "      <td>-1</td>\n",
       "      <td>0</td>\n",
       "      <td>unknown</td>\n",
       "      <td>no</td>\n",
       "    </tr>\n",
       "  </tbody>\n",
       "</table>\n",
       "</div>"
      ],
      "text/plain": [
       "   age          job  marital  education default  balance housing loan  \\\n",
       "0   30   unemployed  married    primary      no     1787      no   no   \n",
       "1   33     services  married  secondary      no     4789     yes  yes   \n",
       "2   35   management   single   tertiary      no     1350     yes   no   \n",
       "3   30   management  married   tertiary      no     1476     yes  yes   \n",
       "4   59  blue-collar  married  secondary      no        0     yes   no   \n",
       "\n",
       "    contact  day month  duration  campaign  pdays  previous poutcome   y  \n",
       "0  cellular   19   oct        79         1     -1         0  unknown  no  \n",
       "1  cellular   11   may       220         1    339         4  failure  no  \n",
       "2  cellular   16   apr       185         1    330         1  failure  no  \n",
       "3   unknown    3   jun       199         4     -1         0  unknown  no  \n",
       "4   unknown    5   may       226         1     -1         0  unknown  no  "
      ]
     },
     "execution_count": 58,
     "metadata": {},
     "output_type": "execute_result"
    }
   ],
   "source": [
    "df_bank = pd.read_csv('C:/Users/ASUS/H8_Python_KS09_MSIB _3/Assignment3/dataset/bank.csv' , delimiter=\";\")\n",
    "df_bank.head()"
   ]
  },
  {
   "cell_type": "markdown",
   "id": "a5460d41",
   "metadata": {},
   "source": [
    "# Explaratory & Cleaning Data"
   ]
  },
  {
   "cell_type": "code",
   "execution_count": 59,
   "id": "df53ca0c",
   "metadata": {},
   "outputs": [
    {
     "name": "stdout",
     "output_type": "stream",
     "text": [
      "<class 'pandas.core.frame.DataFrame'>\n",
      "RangeIndex: 4521 entries, 0 to 4520\n",
      "Data columns (total 17 columns):\n",
      " #   Column     Non-Null Count  Dtype \n",
      "---  ------     --------------  ----- \n",
      " 0   age        4521 non-null   int64 \n",
      " 1   job        4521 non-null   object\n",
      " 2   marital    4521 non-null   object\n",
      " 3   education  4521 non-null   object\n",
      " 4   default    4521 non-null   object\n",
      " 5   balance    4521 non-null   int64 \n",
      " 6   housing    4521 non-null   object\n",
      " 7   loan       4521 non-null   object\n",
      " 8   contact    4521 non-null   object\n",
      " 9   day        4521 non-null   int64 \n",
      " 10  month      4521 non-null   object\n",
      " 11  duration   4521 non-null   int64 \n",
      " 12  campaign   4521 non-null   int64 \n",
      " 13  pdays      4521 non-null   int64 \n",
      " 14  previous   4521 non-null   int64 \n",
      " 15  poutcome   4521 non-null   object\n",
      " 16  y          4521 non-null   object\n",
      "dtypes: int64(7), object(10)\n",
      "memory usage: 600.6+ KB\n"
     ]
    }
   ],
   "source": [
    "#melihat tipe data pada kolom\n",
    "\n",
    "df_bank.info()"
   ]
  },
  {
   "cell_type": "markdown",
   "id": "989ac31e",
   "metadata": {},
   "source": [
    "dari output diatas, terlihat bahwa data sudah memiliki tipe data yang sesuai. sehingga, langkah selanjutnya adalah melihat dimensi dari data tersebut."
   ]
  },
  {
   "cell_type": "code",
   "execution_count": 60,
   "id": "73522513",
   "metadata": {},
   "outputs": [
    {
     "data": {
      "text/plain": [
       "(4521, 17)"
      ]
     },
     "execution_count": 60,
     "metadata": {},
     "output_type": "execute_result"
    }
   ],
   "source": [
    "#melihat dimensi dari data\n",
    "\n",
    "df_bank.shape"
   ]
  },
  {
   "cell_type": "markdown",
   "id": "2ab15a7f",
   "metadata": {},
   "source": [
    "dari output diatas, terlihat bahwa data ini memiliki 4.521 data dan 17 kolom dengan 2 type data yaitu int64 dan object."
   ]
  },
  {
   "cell_type": "code",
   "execution_count": 61,
   "id": "ac83d9cc",
   "metadata": {
    "scrolled": true
   },
   "outputs": [
    {
     "data": {
      "text/plain": [
       "age          0\n",
       "job          0\n",
       "marital      0\n",
       "education    0\n",
       "default      0\n",
       "balance      0\n",
       "housing      0\n",
       "loan         0\n",
       "contact      0\n",
       "day          0\n",
       "month        0\n",
       "duration     0\n",
       "campaign     0\n",
       "pdays        0\n",
       "previous     0\n",
       "poutcome     0\n",
       "y            0\n",
       "dtype: int64"
      ]
     },
     "execution_count": 61,
     "metadata": {},
     "output_type": "execute_result"
    }
   ],
   "source": [
    "#melihat apakah data mengandung misiing values\n",
    "\n",
    "df_bank.isnull().sum()"
   ]
  },
  {
   "cell_type": "markdown",
   "id": "33087981",
   "metadata": {},
   "source": [
    "dari output diatas, setelah dilakukan pengecekan missing values terlihat bahwa semua kolom bernilai \"0\" yang berarti data tidak memiliki missing values."
   ]
  },
  {
   "cell_type": "markdown",
   "id": "b75b925e",
   "metadata": {},
   "source": [
    "# Visualisasi Data"
   ]
  },
  {
   "cell_type": "markdown",
   "id": "344d08b5",
   "metadata": {},
   "source": [
    "## Presentase Client Job"
   ]
  },
  {
   "cell_type": "code",
   "execution_count": 62,
   "id": "dda4f93f",
   "metadata": {},
   "outputs": [],
   "source": [
    "def create_list_number_bank(name_column, list_unique):\n",
    "    # list_unique = df[name_column].unique()\n",
    "    \n",
    "    i = 0\n",
    "    \n",
    "    list_number = list()\n",
    "    \n",
    "    while i < len(list_unique):\n",
    "        list_number.append(len(df_bank.loc[df_bank[name_column] == list_unique[i]]))\n",
    "        i += 1\n",
    "    \n",
    "    return list_unique, list_number\n",
    "\n",
    "def pie_plot(list_number, list_unique):\n",
    "    plt.figure(figsize=(20,10))\n",
    "    plt.pie(list_unique, \n",
    "        labels=list_number,\n",
    "        autopct='%1.1f%%', \n",
    "        shadow=True, \n",
    "        startangle=140)\n",
    " \n",
    "    plt.axis('equal')\n",
    "    plt.title('Presentase Client Job', y=1.05)\n",
    "    plt.show()\n",
    "    return "
   ]
  },
  {
   "cell_type": "code",
   "execution_count": 63,
   "id": "2de35d73",
   "metadata": {
    "scrolled": true
   },
   "outputs": [
    {
     "data": {
      "image/png": "[encoded data removed]",
      "text/plain": [
       "<Figure size 1440x720 with 1 Axes>"
      ]
     },
     "metadata": {},
     "output_type": "display_data"
    }
   ],
   "source": [
    "list_unique_job, list_number_job = create_list_number_bank('job',df_bank['job'].unique())\n",
    "pie_plot(list_unique_job, list_number_job)"
   ]
  },
  {
   "cell_type": "code",
   "execution_count": 64,
   "id": "09fc9eb2",
   "metadata": {},
   "outputs": [
    {
     "data": {
      "text/plain": [
       "['unemployed',\n",
       " 'services',\n",
       " 'management',\n",
       " 'blue-collar',\n",
       " 'self-employed',\n",
       " 'technician',\n",
       " 'entrepreneur',\n",
       " 'admin.',\n",
       " 'student',\n",
       " 'housemaid',\n",
       " 'retired',\n",
       " 'unknown']"
      ]
     },
     "execution_count": 64,
     "metadata": {},
     "output_type": "execute_result"
    }
   ],
   "source": [
    "#list job\n",
    "\n",
    "job = list(df_bank[\"job\"].unique())\n",
    "job"
   ]
  },
  {
   "cell_type": "code",
   "execution_count": 65,
   "id": "7204ff5c",
   "metadata": {
    "scrolled": true
   },
   "outputs": [
    {
     "data": {
      "text/plain": [
       "12"
      ]
     },
     "execution_count": 65,
     "metadata": {},
     "output_type": "execute_result"
    }
   ],
   "source": [
    "#jumlah job\n",
    "\n",
    "len(job)"
   ]
  },
  {
   "cell_type": "markdown",
   "id": "05e24622",
   "metadata": {},
   "source": [
    "**Interpretasi**"
   ]
  },
  {
   "cell_type": "markdown",
   "id": "b1e1c896",
   "metadata": {},
   "source": [
    "berdasarkan pie chart diatas, dapat dilihat pekerjaan dari klien lembaga bank portugis ini terdapat 12 kategori pekerjaan, dimana pekerjaan dengan persentase tertinggi yaitu management sebesar 21,4% sedangkan untuk pekerjaan unknown  menjadi presentase terendah sebesar 0,8% karena jenis pekerjaan ini tidak diketahui"
   ]
  },
  {
   "cell_type": "markdown",
   "id": "06a35235",
   "metadata": {},
   "source": [
    "## Jumlah Klien yang Memiliki Kredit (Default)"
   ]
  },
  {
   "cell_type": "code",
   "execution_count": 66,
   "id": "cabd600f",
   "metadata": {
    "scrolled": true
   },
   "outputs": [
    {
     "data": {
      "image/png": "[encoded data removed]",
      "text/plain": [
       "<Figure size 360x360 with 1 Axes>"
      ]
     },
     "metadata": {
      "needs_background": "light"
     },
     "output_type": "display_data"
    }
   ],
   "source": [
    "df_default = df_bank['default'].value_counts()\n",
    "df_default.plot(kind='bar', figsize=(5, 5))\n",
    "plt.title(\"Histogram Jumlah Klien yang Memiliki Kredit (Default)\", y=1.05)\n",
    "plt.xlabel('Kategori')\n",
    "plt.ylabel('Jumlah Klien')\n",
    "plt.ylim(ymin=0)\n",
    "plt.show()"
   ]
  },
  {
   "cell_type": "code",
   "execution_count": 67,
   "id": "610c3d13",
   "metadata": {},
   "outputs": [
    {
     "data": {
      "text/plain": [
       "no     4445\n",
       "yes      76\n",
       "Name: default, dtype: int64"
      ]
     },
     "execution_count": 67,
     "metadata": {},
     "output_type": "execute_result"
    }
   ],
   "source": [
    "df_default"
   ]
  },
  {
   "cell_type": "markdown",
   "id": "92d1c1d7",
   "metadata": {},
   "source": [
    "**Interpretasi**\n",
    "\n",
    "berdasarkan bar chart diatas, dapat dilihat bahwa jumlah klien yang tidak memiliki kredit paling banyak yaitu 4.445 klien, sedangkan yang memiliki kredit hanya 76 klien."
   ]
  },
  {
   "cell_type": "markdown",
   "id": "23eee061",
   "metadata": {},
   "source": [
    "## Jumlah Klien yang Memiliki Pinjaman Pribadi"
   ]
  },
  {
   "cell_type": "code",
   "execution_count": 68,
   "id": "8145a123",
   "metadata": {},
   "outputs": [
    {
     "data": {
      "image/png": "[encoded data removed]",
      "text/plain": [
       "<Figure size 360x360 with 1 Axes>"
      ]
     },
     "metadata": {
      "needs_background": "light"
     },
     "output_type": "display_data"
    }
   ],
   "source": [
    "df_loan = df_bank['loan'].value_counts()\n",
    "df_loan.plot(kind='bar', color='mediumturquoise', figsize=(5,5))\n",
    "plt.title(\"Histogram Jumlah Klien yang Memiliki Pinjaman Pribadi\", y=1.05)\n",
    "plt.xlabel('Kategori')\n",
    "plt.ylabel('Jumlah Klien')\n",
    "plt.ylim(ymin=0)\n",
    "plt.show()"
   ]
  },
  {
   "cell_type": "code",
   "execution_count": 69,
   "id": "3bacfa07",
   "metadata": {
    "scrolled": true
   },
   "outputs": [
    {
     "data": {
      "text/plain": [
       "no     3830\n",
       "yes     691\n",
       "Name: loan, dtype: int64"
      ]
     },
     "execution_count": 69,
     "metadata": {},
     "output_type": "execute_result"
    }
   ],
   "source": [
    "df_loan"
   ]
  },
  {
   "cell_type": "markdown",
   "id": "4c5aa7e1",
   "metadata": {},
   "source": [
    "**Interpretasi**\n",
    "\n",
    "berdasarkan bar chart diatas, dapat dilihat bahwa jumlah klien yang tidak memiliki pinjaman pribadi paling banyak yaitu 3.830 klien, sedangkan yang memiliki pinjaman yaitu 691 klien."
   ]
  },
  {
   "cell_type": "markdown",
   "id": "432d9943",
   "metadata": {},
   "source": [
    "## Jumlah Klien yang Memiliki Deposit"
   ]
  },
  {
   "cell_type": "code",
   "execution_count": 70,
   "id": "e14c9bf3",
   "metadata": {},
   "outputs": [
    {
     "data": {
      "text/plain": [
       "array(['no', 'yes'], dtype=object)"
      ]
     },
     "execution_count": 70,
     "metadata": {},
     "output_type": "execute_result"
    }
   ],
   "source": [
    "labels = df_bank['y'].unique()\n",
    "labels"
   ]
  },
  {
   "cell_type": "code",
   "execution_count": 71,
   "id": "fafcf346",
   "metadata": {
    "scrolled": false
   },
   "outputs": [
    {
     "data": {
      "text/plain": [
       "no     4000\n",
       "yes     521\n",
       "Name: y, dtype: int64"
      ]
     },
     "execution_count": 71,
     "metadata": {},
     "output_type": "execute_result"
    }
   ],
   "source": [
    "df_deposit = df_bank['y'].value_counts()\n",
    "df_deposit"
   ]
  },
  {
   "cell_type": "code",
   "execution_count": 72,
   "id": "a4119041",
   "metadata": {},
   "outputs": [
    {
     "data": {
      "image/png": "[encoded data removed]",
      "text/plain": [
       "<Figure size 576x576 with 1 Axes>"
      ]
     },
     "metadata": {},
     "output_type": "display_data"
    }
   ],
   "source": [
    "plt.figure(figsize=(8,8))\n",
    "colors=['salmon', 'mistyrose']\n",
    "font = {'weight': 'bold', 'size': 10,}\n",
    "ax = plt.axes()\n",
    "\n",
    "plt.pie(df_deposit,\n",
    "        labels=labels,\n",
    "        colors=colors,\n",
    "        startangle=90,\n",
    "        autopct='%1.1f%%')\n",
    "plt.title(\"Presentase Klien yang Memiliki Deposit\")\n",
    "\n",
    "plt.show()"
   ]
  },
  {
   "cell_type": "markdown",
   "id": "297ad06e",
   "metadata": {},
   "source": [
    "**Interpretasi**"
   ]
  },
  {
   "cell_type": "markdown",
   "id": "a78f8ffc",
   "metadata": {},
   "source": [
    "berdasarkan pie chart diatas dapat dilihat klien yang telah berlangganan deposit berjangka sebanyak 11.3% atau sekitar 521 klien dan dan 88.5% atau 4.000 klien belum berlangganan deposit."
   ]
  },
  {
   "cell_type": "code",
   "execution_count": 73,
   "id": "99a2eb8c",
   "metadata": {},
   "outputs": [
    {
     "data": {
      "image/png": "[encoded data removed]",
      "text/plain": [
       "<Figure size 432x288 with 1 Axes>"
      ]
     },
     "metadata": {
      "needs_background": "light"
     },
     "output_type": "display_data"
    }
   ],
   "source": [
    "pd.crosstab(df_bank['job'], df_bank['y']).plot(kind='bar') \n",
    "plt.title('Purchase Frequency for Job Title', y=1.05)\n",
    "plt.xlabel('Job')\n",
    "plt.ylabel('Frequency of Purchase')\n",
    "plt.savefig('purchase_fre_job')  "
   ]
  },
  {
   "cell_type": "markdown",
   "id": "aaa1bde5",
   "metadata": {},
   "source": [
    "**Interpretasi**"
   ]
  },
  {
   "cell_type": "markdown",
   "id": "5fbd2b4e",
   "metadata": {},
   "source": [
    "berdasarkan plot bar chart diatas, dapat dilihat bahwa frekuensi berlangganan deposit bergantung pada pekerjaan, sehingga pekerjaan merupakan prediktor yang baik dari variabel hasil."
   ]
  },
  {
   "cell_type": "code",
   "execution_count": 74,
   "id": "b622960d",
   "metadata": {},
   "outputs": [
    {
     "data": {
      "image/png": "[encoded data removed]",
      "text/plain": [
       "<Figure size 432x288 with 1 Axes>"
      ]
     },
     "metadata": {
      "needs_background": "light"
     },
     "output_type": "display_data"
    }
   ],
   "source": [
    "table=pd.crosstab(df_bank.marital, df_bank.y)  \n",
    "table.div(table.sum(1).astype(float), axis=0).plot(kind='bar', stacked=True)  \n",
    "plt.title('Stacked Bar Chart of Marital Status vs Purchase', y=1.05)  \n",
    "plt.xlabel('Marital Status')  \n",
    "plt.ylabel('Proportion of Customers')  \n",
    "plt.savefig('mariral_vs_pur_stack') "
   ]
  },
  {
   "cell_type": "markdown",
   "id": "ce11d923",
   "metadata": {},
   "source": [
    "**Interpretasi**"
   ]
  },
  {
   "cell_type": "markdown",
   "id": "eb317d57",
   "metadata": {},
   "source": [
    "berdasarkan plot bar chart diatas, dapat dilihat bahwa status perkawinan bukan merupakan prediktor yang kuat untuk variabel hasil."
   ]
  },
  {
   "cell_type": "code",
   "execution_count": 75,
   "id": "56e4436b",
   "metadata": {},
   "outputs": [
    {
     "data": {
      "image/png": "[encoded data removed]",
      "text/plain": [
       "<Figure size 432x288 with 1 Axes>"
      ]
     },
     "metadata": {
      "needs_background": "light"
     },
     "output_type": "display_data"
    }
   ],
   "source": [
    "table=pd.crosstab(df_bank.education, df_bank.y)  \n",
    "table.div(table.sum(1).astype(float), axis=0).plot(kind='bar', stacked=True)  \n",
    "plt.title('Stacked Bar Chart of Education vs Purchase', y=1.05)  \n",
    "plt.xlabel('Education')  \n",
    "plt.ylabel('Proportion of Customers')  \n",
    "plt.savefig('edu_vs_pur_stack')  "
   ]
  },
  {
   "cell_type": "markdown",
   "id": "fd8c3ffd",
   "metadata": {},
   "source": [
    "**Interpretasi**"
   ]
  },
  {
   "cell_type": "markdown",
   "id": "0f460f90",
   "metadata": {},
   "source": [
    "berdasarkan plot bar diatas, dapat dilihat bahwa pendidikan merupakan prediktor yang baik dari variabel hasil."
   ]
  },
  {
   "cell_type": "code",
   "execution_count": 76,
   "id": "2ec26f52",
   "metadata": {
    "scrolled": false
   },
   "outputs": [
    {
     "data": {
      "image/png": "[encoded data removed]",
      "text/plain": [
       "<Figure size 432x288 with 1 Axes>"
      ]
     },
     "metadata": {
      "needs_background": "light"
     },
     "output_type": "display_data"
    }
   ],
   "source": [
    "df_bank.age.hist()  \n",
    "plt.title('Histogram of Age', y=1.05)  \n",
    "plt.xlabel('Age')  \n",
    "plt.ylabel('Frequency')  \n",
    "plt.savefig('hist_age') "
   ]
  },
  {
   "cell_type": "markdown",
   "id": "520f10af",
   "metadata": {},
   "source": [
    "**Interpretasi**"
   ]
  },
  {
   "cell_type": "markdown",
   "id": "7a02f8a4",
   "metadata": {},
   "source": [
    "berdasarkan histogram diatas, dapat dilihat bahwa rata-rata klien bank dalam berusia antara 30-40 tahun."
   ]
  },
  {
   "cell_type": "code",
   "execution_count": 77,
   "id": "c5acd800",
   "metadata": {
    "scrolled": false
   },
   "outputs": [
    {
     "data": {
      "image/png": "[encoded data removed]",
      "text/plain": [
       "<Figure size 432x288 with 1 Axes>"
      ]
     },
     "metadata": {
      "needs_background": "light"
     },
     "output_type": "display_data"
    }
   ],
   "source": [
    "pd.crosstab(df_bank.month,df_bank.y).plot(kind='bar')  \n",
    "plt.title('Purchase Frequency for Month', y=1.05)  \n",
    "plt.xlabel('Month')  \n",
    "plt.ylabel('Frequency of Purchase')  \n",
    "plt.savefig('pur_fre_month_bar')  "
   ]
  },
  {
   "cell_type": "markdown",
   "id": "733afc8d",
   "metadata": {},
   "source": [
    "**Interpretasi**"
   ]
  },
  {
   "cell_type": "markdown",
   "id": "af65743f",
   "metadata": {},
   "source": [
    "berdasarkan bar chart diatas, dapat dilihat bahwa bulan merupakan prediktor yang baik untuk variabel hasil"
   ]
  },
  {
   "cell_type": "markdown",
   "id": "d096b4ec",
   "metadata": {},
   "source": [
    "# Encoding Kolom"
   ]
  },
  {
   "cell_type": "code",
   "execution_count": 78,
   "id": "f7dccc1c",
   "metadata": {
    "scrolled": true
   },
   "outputs": [
    {
     "data": {
      "text/plain": [
       "0    0\n",
       "1    0\n",
       "2    0\n",
       "3    0\n",
       "4    0\n",
       "Name: y, dtype: int32"
      ]
     },
     "execution_count": 78,
     "metadata": {},
     "output_type": "execute_result"
    }
   ],
   "source": [
    "#encode kolom 'y' dari data kategorik menjadi numerik\n",
    "\n",
    "le = LabelEncoder()\n",
    "df_bank['y'] = le.fit_transform(df_bank['y'])\n",
    "df_bank['y'].head()"
   ]
  },
  {
   "cell_type": "markdown",
   "id": "ad6f12bc",
   "metadata": {},
   "source": [
    "dari hasil output diatas, dapat dilihat bahwa kolom \"y\" sudah berubah tipe data menjadi numerik atau integer."
   ]
  },
  {
   "cell_type": "markdown",
   "id": "243b4817",
   "metadata": {},
   "source": [
    "# Buat Variabel Dummy"
   ]
  },
  {
   "cell_type": "code",
   "execution_count": 79,
   "id": "74594c21",
   "metadata": {},
   "outputs": [],
   "source": [
    "#deklarasi variabel fitur dan variabel target yang akan digunakan\n",
    "#variabel fitur yaitu kolom age, balance, day, duration, campaign, job, dan marital\n",
    "#variabel target yaitu kolom y\n",
    "\n",
    "X = df_bank[['age', 'balance', 'day', 'duration', 'campaign', 'job', 'marital']]\n",
    "y = df_bank['y']"
   ]
  },
  {
   "cell_type": "code",
   "execution_count": 80,
   "id": "efd15afd",
   "metadata": {
    "scrolled": false
   },
   "outputs": [
    {
     "data": {
      "text/html": [
       "<div>\n",
       "<style scoped>\n",
       "    .dataframe tbody tr th:only-of-type {\n",
       "        vertical-align: middle;\n",
       "    }\n",
       "\n",
       "    .dataframe tbody tr th {\n",
       "        vertical-align: top;\n",
       "    }\n",
       "\n",
       "    .dataframe thead th {\n",
       "        text-align: right;\n",
       "    }\n",
       "</style>\n",
       "<table border=\"1\" class=\"dataframe\">\n",
       "  <thead>\n",
       "    <tr style=\"text-align: right;\">\n",
       "      <th></th>\n",
       "      <th>age</th>\n",
       "      <th>balance</th>\n",
       "      <th>day</th>\n",
       "      <th>duration</th>\n",
       "      <th>campaign</th>\n",
       "      <th>job_admin.</th>\n",
       "      <th>job_blue-collar</th>\n",
       "      <th>job_entrepreneur</th>\n",
       "      <th>job_housemaid</th>\n",
       "      <th>job_management</th>\n",
       "      <th>job_retired</th>\n",
       "      <th>job_self-employed</th>\n",
       "      <th>job_services</th>\n",
       "      <th>job_student</th>\n",
       "      <th>job_technician</th>\n",
       "      <th>job_unemployed</th>\n",
       "      <th>job_unknown</th>\n",
       "      <th>marital_divorced</th>\n",
       "      <th>marital_married</th>\n",
       "      <th>marital_single</th>\n",
       "    </tr>\n",
       "  </thead>\n",
       "  <tbody>\n",
       "    <tr>\n",
       "      <th>0</th>\n",
       "      <td>30</td>\n",
       "      <td>1787</td>\n",
       "      <td>19</td>\n",
       "      <td>79</td>\n",
       "      <td>1</td>\n",
       "      <td>0</td>\n",
       "      <td>0</td>\n",
       "      <td>0</td>\n",
       "      <td>0</td>\n",
       "      <td>0</td>\n",
       "      <td>0</td>\n",
       "      <td>0</td>\n",
       "      <td>0</td>\n",
       "      <td>0</td>\n",
       "      <td>0</td>\n",
       "      <td>1</td>\n",
       "      <td>0</td>\n",
       "      <td>0</td>\n",
       "      <td>1</td>\n",
       "      <td>0</td>\n",
       "    </tr>\n",
       "    <tr>\n",
       "      <th>1</th>\n",
       "      <td>33</td>\n",
       "      <td>4789</td>\n",
       "      <td>11</td>\n",
       "      <td>220</td>\n",
       "      <td>1</td>\n",
       "      <td>0</td>\n",
       "      <td>0</td>\n",
       "      <td>0</td>\n",
       "      <td>0</td>\n",
       "      <td>0</td>\n",
       "      <td>0</td>\n",
       "      <td>0</td>\n",
       "      <td>1</td>\n",
       "      <td>0</td>\n",
       "      <td>0</td>\n",
       "      <td>0</td>\n",
       "      <td>0</td>\n",
       "      <td>0</td>\n",
       "      <td>1</td>\n",
       "      <td>0</td>\n",
       "    </tr>\n",
       "    <tr>\n",
       "      <th>2</th>\n",
       "      <td>35</td>\n",
       "      <td>1350</td>\n",
       "      <td>16</td>\n",
       "      <td>185</td>\n",
       "      <td>1</td>\n",
       "      <td>0</td>\n",
       "      <td>0</td>\n",
       "      <td>0</td>\n",
       "      <td>0</td>\n",
       "      <td>1</td>\n",
       "      <td>0</td>\n",
       "      <td>0</td>\n",
       "      <td>0</td>\n",
       "      <td>0</td>\n",
       "      <td>0</td>\n",
       "      <td>0</td>\n",
       "      <td>0</td>\n",
       "      <td>0</td>\n",
       "      <td>0</td>\n",
       "      <td>1</td>\n",
       "    </tr>\n",
       "    <tr>\n",
       "      <th>3</th>\n",
       "      <td>30</td>\n",
       "      <td>1476</td>\n",
       "      <td>3</td>\n",
       "      <td>199</td>\n",
       "      <td>4</td>\n",
       "      <td>0</td>\n",
       "      <td>0</td>\n",
       "      <td>0</td>\n",
       "      <td>0</td>\n",
       "      <td>1</td>\n",
       "      <td>0</td>\n",
       "      <td>0</td>\n",
       "      <td>0</td>\n",
       "      <td>0</td>\n",
       "      <td>0</td>\n",
       "      <td>0</td>\n",
       "      <td>0</td>\n",
       "      <td>0</td>\n",
       "      <td>1</td>\n",
       "      <td>0</td>\n",
       "    </tr>\n",
       "    <tr>\n",
       "      <th>4</th>\n",
       "      <td>59</td>\n",
       "      <td>0</td>\n",
       "      <td>5</td>\n",
       "      <td>226</td>\n",
       "      <td>1</td>\n",
       "      <td>0</td>\n",
       "      <td>1</td>\n",
       "      <td>0</td>\n",
       "      <td>0</td>\n",
       "      <td>0</td>\n",
       "      <td>0</td>\n",
       "      <td>0</td>\n",
       "      <td>0</td>\n",
       "      <td>0</td>\n",
       "      <td>0</td>\n",
       "      <td>0</td>\n",
       "      <td>0</td>\n",
       "      <td>0</td>\n",
       "      <td>1</td>\n",
       "      <td>0</td>\n",
       "    </tr>\n",
       "  </tbody>\n",
       "</table>\n",
       "</div>"
      ],
      "text/plain": [
       "   age  balance  day  duration  campaign  job_admin.  job_blue-collar  \\\n",
       "0   30     1787   19        79         1           0                0   \n",
       "1   33     4789   11       220         1           0                0   \n",
       "2   35     1350   16       185         1           0                0   \n",
       "3   30     1476    3       199         4           0                0   \n",
       "4   59        0    5       226         1           0                1   \n",
       "\n",
       "   job_entrepreneur  job_housemaid  job_management  job_retired  \\\n",
       "0                 0              0               0            0   \n",
       "1                 0              0               0            0   \n",
       "2                 0              0               1            0   \n",
       "3                 0              0               1            0   \n",
       "4                 0              0               0            0   \n",
       "\n",
       "   job_self-employed  job_services  job_student  job_technician  \\\n",
       "0                  0             0            0               0   \n",
       "1                  0             1            0               0   \n",
       "2                  0             0            0               0   \n",
       "3                  0             0            0               0   \n",
       "4                  0             0            0               0   \n",
       "\n",
       "   job_unemployed  job_unknown  marital_divorced  marital_married  \\\n",
       "0               1            0                 0                1   \n",
       "1               0            0                 0                1   \n",
       "2               0            0                 0                0   \n",
       "3               0            0                 0                1   \n",
       "4               0            0                 0                1   \n",
       "\n",
       "   marital_single  \n",
       "0               0  \n",
       "1               0  \n",
       "2               1  \n",
       "3               0  \n",
       "4               0  "
      ]
     },
     "execution_count": 80,
     "metadata": {},
     "output_type": "execute_result"
    }
   ],
   "source": [
    "#ubah kolom kategorik menjadi numerik dengan menggunakan fungsi dummy\n",
    "\n",
    "X = pd.get_dummies(X)\n",
    "X.head()"
   ]
  },
  {
   "cell_type": "markdown",
   "id": "689e2c63",
   "metadata": {},
   "source": [
    "dari hasil output diatas, dapat dilihat bahwa variabel X sudah berubah tipe data menjadi numerik atau integer."
   ]
  },
  {
   "cell_type": "markdown",
   "id": "d23ccd28",
   "metadata": {},
   "source": [
    "# Split Data"
   ]
  },
  {
   "cell_type": "markdown",
   "id": "d834f7b5",
   "metadata": {},
   "source": [
    "setelah mendefinisikan variabel X dan y pada tahap sebelumnya, kita dapat langsung mengimplementasikan train/test split menjadi 70% training dan 30% testing."
   ]
  },
  {
   "cell_type": "code",
   "execution_count": 81,
   "id": "29e0cc9f",
   "metadata": {},
   "outputs": [],
   "source": [
    "#split data menjadi 70% training dan 30% testing\n",
    "\n",
    "X_train, X_test, y_train, y_test = train_test_split(X, y, test_size=0.3, random_state=124)"
   ]
  },
  {
   "cell_type": "markdown",
   "id": "a15e5ed4",
   "metadata": {},
   "source": [
    "1. X_train: untuk menampung data source yang akan dilatih\n",
    "2. X_test: untuk menampung data target yang akan dilatih\n",
    "3. y_train: untuk menampung data source yang akan digunakan untuk testing\n",
    "4. y_test: untuk menampung data target yang akan digunakan untuk testing\n",
    "5. parameter test_size digunakan untuk mendefinisikan ukuran data testing sebesar 30%\n",
    "6. parameter random_state digunakan jika kita mengulang proses running maka hasilnya akan berubah-ubah. sehingga gunakan random state dengan angka berapas aja berupa integer. disini saya menggunakan random_state = 3"
   ]
  },
  {
   "cell_type": "markdown",
   "id": "101fee2e",
   "metadata": {},
   "source": [
    "# Logistic Regression"
   ]
  },
  {
   "cell_type": "markdown",
   "id": "cb5ac636",
   "metadata": {},
   "source": [
    "**Pre-processing**"
   ]
  },
  {
   "cell_type": "code",
   "execution_count": 82,
   "id": "7dfe0de4",
   "metadata": {
    "scrolled": false
   },
   "outputs": [
    {
     "name": "stderr",
     "output_type": "stream",
     "text": [
      "D:\\Putrialtikaaa\\Aplikasi\\Anaconda1\\lib\\site-packages\\sklearn\\linear_model\\_logistic.py:814: ConvergenceWarning: lbfgs failed to converge (status=1):\n",
      "STOP: TOTAL NO. of ITERATIONS REACHED LIMIT.\n",
      "\n",
      "Increase the number of iterations (max_iter) or scale the data as shown in:\n",
      "    https://scikit-learn.org/stable/modules/preprocessing.html\n",
      "Please also refer to the documentation for alternative solver options:\n",
      "    https://scikit-learn.org/stable/modules/linear_model.html#logistic-regression\n",
      "  n_iter_i = _check_optimize_result(\n"
     ]
    }
   ],
   "source": [
    "#menentukan model klasifikasi\n",
    "model = LogisticRegression()\n",
    "\n",
    "#training model\n",
    "model.fit(X_train, y_train)\n",
    "\n",
    "#prediksi respon untuk dataset test\n",
    "y_pred = model.predict(X_test)"
   ]
  },
  {
   "cell_type": "markdown",
   "id": "0ca7be8c",
   "metadata": {},
   "source": [
    "**Confusion Matriks**"
   ]
  },
  {
   "cell_type": "code",
   "execution_count": 83,
   "id": "72ca1d9a",
   "metadata": {
    "scrolled": true
   },
   "outputs": [
    {
     "name": "stdout",
     "output_type": "stream",
     "text": [
      "[[1188   15]\n",
      " [ 134   20]]\n"
     ]
    }
   ],
   "source": [
    "#confusion matriks\n",
    "\n",
    "matrix = confusion_matrix(y_test, y_pred)\n",
    "print(matrix)"
   ]
  },
  {
   "cell_type": "code",
   "execution_count": 84,
   "id": "2a706bdd",
   "metadata": {
    "scrolled": true
   },
   "outputs": [
    {
     "data": {
      "image/png": "[encoded data removed]",
      "text/plain": [
       "<Figure size 360x360 with 1 Axes>"
      ]
     },
     "metadata": {
      "needs_background": "light"
     },
     "output_type": "display_data"
    }
   ],
   "source": [
    "#visualisasi confusion matriks\n",
    "\n",
    "cm = confusion_matrix(y_test, y_pred)\n",
    "\n",
    "fig, ax = plt.subplots(figsize=(5,5))\n",
    "ax.imshow(cm)\n",
    "ax.grid(False)\n",
    "ax.xaxis.set(ticks=(0,1), ticklabels=('Predicted 0s', 'Predicted 1s'))\n",
    "ax.yaxis.set(ticks=(0,1), ticklabels=('Actual 0s', 'Actual 1s'))\n",
    "ax.set_ylim(1.5, -0.5)\n",
    "for i in range(2):\n",
    "    for j in range(2):\n",
    "        ax.text(j, i, cm[i, j], ha='center', va='center', color='red')\n",
    "\n",
    "plt.show()"
   ]
  },
  {
   "cell_type": "markdown",
   "id": "1fff6f09",
   "metadata": {},
   "source": [
    "**Evaluasi Model**"
   ]
  },
  {
   "cell_type": "code",
   "execution_count": 85,
   "id": "6a08cf5b",
   "metadata": {},
   "outputs": [
    {
     "name": "stdout",
     "output_type": "stream",
     "text": [
      "0.8901989683124539\n"
     ]
    }
   ],
   "source": [
    "#melihat nilai accuracy\n",
    "\n",
    "print(metrics.accuracy_score(y_test, y_pred))"
   ]
  },
  {
   "cell_type": "code",
   "execution_count": 86,
   "id": "dcd3702d",
   "metadata": {
    "scrolled": false
   },
   "outputs": [
    {
     "name": "stdout",
     "output_type": "stream",
     "text": [
      "              precision    recall  f1-score   support\n",
      "\n",
      "           0       0.90      0.99      0.94      1203\n",
      "           1       0.57      0.13      0.21       154\n",
      "\n",
      "    accuracy                           0.89      1357\n",
      "   macro avg       0.74      0.56      0.58      1357\n",
      "weighted avg       0.86      0.89      0.86      1357\n",
      "\n"
     ]
    }
   ],
   "source": [
    "#laporan klasifikasi yang komprehensif\n",
    "\n",
    "print(classification_report(y_test, y_pred))"
   ]
  },
  {
   "cell_type": "markdown",
   "id": "c5237779",
   "metadata": {},
   "source": [
    "**Kesimpulan**"
   ]
  },
  {
   "cell_type": "markdown",
   "id": "26f5a875",
   "metadata": {},
   "source": [
    "kesimpulan yang didapat dari klasifikasi menggunakan metode Regresi Logistik sebagai berikut:\n",
    "1. nilai akurasi terbaik dari metode Regresi Logistik sebesar 0.89 atau 89%.\n",
    "2. confusion matrix menghasilkan 1187 + 20 prediksi benar dan 134 + 16 prediksi salah.\n",
    "  * 1187 prediksi negatif benar = 1180 pengamatan pertama adalah 0 atau no yang diprediksi dengan benar.\n",
    "  * 134 prediksi negatif salah = 127 pengamatan yang salah sebagai 0 atau no.\n",
    "  * 16  prediksi positif salah = 21 pengamatan keempat adalah 0 yang salah diprediksi sebagai 1 atau yes.\n",
    "  * 20 prediksi positif benar = 29 pengamatan terakhir adalah yang diprediksi dengan benar sebagai 1 atau yes."
   ]
  },
  {
   "cell_type": "markdown",
   "id": "f3dafd02",
   "metadata": {},
   "source": [
    "# K-Nearest Neighbors"
   ]
  },
  {
   "cell_type": "markdown",
   "id": "dbd7bc58",
   "metadata": {},
   "source": [
    "**Pre-processing**"
   ]
  },
  {
   "cell_type": "code",
   "execution_count": 87,
   "id": "182e8a71",
   "metadata": {},
   "outputs": [],
   "source": [
    "#menentukan model klasifikasi\n",
    "KNN = KNeighborsClassifier()\n",
    "\n",
    "#training model\n",
    "KNN.fit(X_train, y_train)\n",
    "\n",
    "#prediksi respon untuk dataset test\n",
    "y_pred1 = KNN.predict(X_test)"
   ]
  },
  {
   "cell_type": "markdown",
   "id": "fce121ac",
   "metadata": {},
   "source": [
    "**Confusion Matriks**"
   ]
  },
  {
   "cell_type": "code",
   "execution_count": 88,
   "id": "e9856805",
   "metadata": {
    "scrolled": true
   },
   "outputs": [
    {
     "name": "stdout",
     "output_type": "stream",
     "text": [
      "[[1169   34]\n",
      " [ 128   26]]\n"
     ]
    }
   ],
   "source": [
    "#confusion matriks\n",
    "\n",
    "matrix = confusion_matrix(y_test, y_pred1)\n",
    "print(matrix)"
   ]
  },
  {
   "cell_type": "code",
   "execution_count": 89,
   "id": "e70cca5b",
   "metadata": {
    "scrolled": true
   },
   "outputs": [
    {
     "data": {
      "image/png": "[encoded data removed]",
      "text/plain": [
       "<Figure size 360x360 with 1 Axes>"
      ]
     },
     "metadata": {
      "needs_background": "light"
     },
     "output_type": "display_data"
    }
   ],
   "source": [
    "#visualisasi confusion matriks\n",
    "\n",
    "cm = confusion_matrix(y_test, y_pred1)\n",
    "\n",
    "fig, ax = plt.subplots(figsize=(5,5))\n",
    "ax.imshow(cm)\n",
    "ax.grid(False)\n",
    "ax.xaxis.set(ticks=(0,1), ticklabels=('Predicted 0s', 'Predicted 1s'))\n",
    "ax.yaxis.set(ticks=(0,1), ticklabels=('Actual 0s', 'Actual 1s'))\n",
    "ax.set_ylim(1.5, -0.5)\n",
    "for i in range(2):\n",
    "    for j in range(2):\n",
    "        ax.text(j, i, cm[i, j], ha='center', va='center', color='red')\n",
    "\n",
    "plt.show()"
   ]
  },
  {
   "cell_type": "markdown",
   "id": "df49a490",
   "metadata": {},
   "source": [
    "**Evaluasi Model**"
   ]
  },
  {
   "cell_type": "code",
   "execution_count": 90,
   "id": "4eccf918",
   "metadata": {},
   "outputs": [
    {
     "name": "stdout",
     "output_type": "stream",
     "text": [
      "0.8806190125276345\n"
     ]
    }
   ],
   "source": [
    "#melihat nilai accuracy\n",
    "\n",
    "print(metrics.accuracy_score(y_test, y_pred1))"
   ]
  },
  {
   "cell_type": "code",
   "execution_count": 91,
   "id": "93b9ca77",
   "metadata": {
    "scrolled": true
   },
   "outputs": [
    {
     "name": "stdout",
     "output_type": "stream",
     "text": [
      "              precision    recall  f1-score   support\n",
      "\n",
      "           0       0.90      0.97      0.94      1203\n",
      "           1       0.43      0.17      0.24       154\n",
      "\n",
      "    accuracy                           0.88      1357\n",
      "   macro avg       0.67      0.57      0.59      1357\n",
      "weighted avg       0.85      0.88      0.86      1357\n",
      "\n"
     ]
    }
   ],
   "source": [
    "#laporan klasifikasi yang lebih lengkap\n",
    "\n",
    "print(classification_report(y_test, y_pred1))"
   ]
  },
  {
   "cell_type": "markdown",
   "id": "0ab63c3a",
   "metadata": {},
   "source": [
    "**Kesimpulan**"
   ]
  },
  {
   "cell_type": "markdown",
   "id": "1542e011",
   "metadata": {},
   "source": [
    "kesimpulan yang didapat dari klasifikasi menggunakan metode K-Nearest Neighbors sebagai berikut:\n",
    "1. nilai akurasi terbaik dari metode K-Nearest Neighbors sebesar 0.88 atau 88%.\n",
    "2. confusion matrix menghasilkan 1169 + 26 prediksi benar dan 128 + 34 prediksi salah.\n",
    "  * 1169 prediksi negatif benar = 1151 pengamatan pertama adalah 0 atau no yang diprediksi dengan benar.\n",
    "  * 128 prediksi negatif salah = 129 pengamatan yang salah sebagai 0 atau no.\n",
    "  * 34 prediksi positif salah = 50 pengamatan keempat adalah 0 yang salah diprediksi sebagai 1 atau yes.\n",
    "  * 26 prediksi positif benar = 27 pengamatan terakhir adalah yang diprediksi dengan benar sebagai 1 atau yes."
   ]
  },
  {
   "cell_type": "markdown",
   "id": "7110a303",
   "metadata": {},
   "source": [
    "# Support Vector Machine"
   ]
  },
  {
   "cell_type": "markdown",
   "id": "240bc2a8",
   "metadata": {},
   "source": [
    "**Pre-processing**"
   ]
  },
  {
   "cell_type": "code",
   "execution_count": 92,
   "id": "95f13c24",
   "metadata": {
    "scrolled": true
   },
   "outputs": [],
   "source": [
    "#menentukan model klasifikasi\n",
    "svm_model = svm.SVC()\n",
    "\n",
    "#training model\n",
    "svm_model.fit(X_train, y_train)\n",
    "\n",
    "#prediksi respon untuk dataset test\n",
    "y_pred2 = svm_model.predict(X_test)"
   ]
  },
  {
   "cell_type": "markdown",
   "id": "325aee4f",
   "metadata": {},
   "source": [
    "**Confusion Matriks**"
   ]
  },
  {
   "cell_type": "code",
   "execution_count": 93,
   "id": "0de1ac7f",
   "metadata": {
    "scrolled": false
   },
   "outputs": [
    {
     "name": "stdout",
     "output_type": "stream",
     "text": [
      "[[1203    0]\n",
      " [ 154    0]]\n"
     ]
    }
   ],
   "source": [
    "#confusion matriks\n",
    "\n",
    "matrix = confusion_matrix(y_test, y_pred2)\n",
    "print(matrix)"
   ]
  },
  {
   "cell_type": "code",
   "execution_count": 94,
   "id": "f8f1693c",
   "metadata": {
    "scrolled": false
   },
   "outputs": [
    {
     "data": {
      "image/png": "[encoded data removed]",
      "text/plain": [
       "<Figure size 360x360 with 1 Axes>"
      ]
     },
     "metadata": {
      "needs_background": "light"
     },
     "output_type": "display_data"
    }
   ],
   "source": [
    "#visualisasi confusion matriks\n",
    "\n",
    "cm = confusion_matrix(y_test, y_pred2)\n",
    "\n",
    "fig, ax = plt.subplots(figsize=(5,5))\n",
    "ax.imshow(cm)\n",
    "ax.grid(False)\n",
    "ax.xaxis.set(ticks=(0,1), ticklabels=('Predicted 0s', 'Predicted 1s'))\n",
    "ax.yaxis.set(ticks=(0,1), ticklabels=('Actual 0s', 'Actual 1s'))\n",
    "ax.set_ylim(1.5, -0.5)\n",
    "for i in range(2):\n",
    "    for j in range(2):\n",
    "        ax.text(j, i, cm[i, j], ha='center', va='center', color='red')\n",
    "\n",
    "plt.show()"
   ]
  },
  {
   "cell_type": "markdown",
   "id": "ca3ba7c6",
   "metadata": {},
   "source": [
    "**Evaluating Model**"
   ]
  },
  {
   "cell_type": "code",
   "execution_count": 95,
   "id": "68ff7bec",
   "metadata": {},
   "outputs": [
    {
     "name": "stdout",
     "output_type": "stream",
     "text": [
      "0.8865143699336773\n"
     ]
    }
   ],
   "source": [
    "#melihat nilai accuracy\n",
    "\n",
    "print(metrics.accuracy_score(y_test, y_pred2))"
   ]
  },
  {
   "cell_type": "code",
   "execution_count": 96,
   "id": "77defd48",
   "metadata": {
    "scrolled": true
   },
   "outputs": [
    {
     "name": "stdout",
     "output_type": "stream",
     "text": [
      "              precision    recall  f1-score   support\n",
      "\n",
      "           0       0.89      1.00      0.94      1203\n",
      "           1       0.00      0.00      0.00       154\n",
      "\n",
      "    accuracy                           0.89      1357\n",
      "   macro avg       0.44      0.50      0.47      1357\n",
      "weighted avg       0.79      0.89      0.83      1357\n",
      "\n"
     ]
    },
    {
     "name": "stderr",
     "output_type": "stream",
     "text": [
      "D:\\Putrialtikaaa\\Aplikasi\\Anaconda1\\lib\\site-packages\\sklearn\\metrics\\_classification.py:1318: UndefinedMetricWarning: Precision and F-score are ill-defined and being set to 0.0 in labels with no predicted samples. Use `zero_division` parameter to control this behavior.\n",
      "  _warn_prf(average, modifier, msg_start, len(result))\n",
      "D:\\Putrialtikaaa\\Aplikasi\\Anaconda1\\lib\\site-packages\\sklearn\\metrics\\_classification.py:1318: UndefinedMetricWarning: Precision and F-score are ill-defined and being set to 0.0 in labels with no predicted samples. Use `zero_division` parameter to control this behavior.\n",
      "  _warn_prf(average, modifier, msg_start, len(result))\n",
      "D:\\Putrialtikaaa\\Aplikasi\\Anaconda1\\lib\\site-packages\\sklearn\\metrics\\_classification.py:1318: UndefinedMetricWarning: Precision and F-score are ill-defined and being set to 0.0 in labels with no predicted samples. Use `zero_division` parameter to control this behavior.\n",
      "  _warn_prf(average, modifier, msg_start, len(result))\n"
     ]
    }
   ],
   "source": [
    "#laporan klasifikasi yang lebih lengkap\n",
    "\n",
    "print(classification_report(y_test, y_pred2))"
   ]
  },
  {
   "cell_type": "markdown",
   "id": "1f5f3ad4",
   "metadata": {},
   "source": [
    "**Kesimpulan**"
   ]
  },
  {
   "cell_type": "markdown",
   "id": "c8199750",
   "metadata": {},
   "source": [
    "kesimpulan yang didapat dari klasifikasi menggunakan metode Support Vector Machine sebagai berikut:\n",
    "1. nilai akurasi terbaik dari metode Support Vector Machine sebesar 0.89 atau 89%.\n",
    "2. confusion matrix menghasilkan 1203 + 0 prediksi benar dan 154 + 0 prediksi salah.\n",
    "  * 1203 prediksi negatif benar = 1201 pengamatan pertama adalah 0 atau no yang diprediksi dengan benar.\n",
    "  * 154 prediksi negatif salah = 156 pengamatan yang salah sebagai 0 atau no.\n",
    "  * 0 prediksi positif salah = tidak ada pengamatan keempat adalah 0 yang salah diprediksi sebagai 1 atau yes.\n",
    "  * 0 prediksi positif benar = tidak ada pengamatan terakhir adalah yang diprediksi dengan benar sebagai 1 atau yes."
   ]
  },
  {
   "cell_type": "markdown",
   "id": "3f571617",
   "metadata": {},
   "source": [
    "# Decision Tree"
   ]
  },
  {
   "cell_type": "markdown",
   "id": "61199696",
   "metadata": {},
   "source": [
    "**Pre-processing**"
   ]
  },
  {
   "cell_type": "code",
   "execution_count": 97,
   "id": "38c46d71",
   "metadata": {},
   "outputs": [],
   "source": [
    "#menentukan model klasifikasi\n",
    "dt = tree.DecisionTreeClassifier()\n",
    "\n",
    "#training model\n",
    "dt.fit(X_train, y_train)\n",
    "\n",
    "#prediksi respon untuk dataset test\n",
    "y_pred3 = dt.predict(X_test)"
   ]
  },
  {
   "cell_type": "markdown",
   "id": "4f31f0ec",
   "metadata": {},
   "source": [
    "**Confusion Matriks**"
   ]
  },
  {
   "cell_type": "code",
   "execution_count": 98,
   "id": "882d0ac9",
   "metadata": {
    "scrolled": false
   },
   "outputs": [
    {
     "name": "stdout",
     "output_type": "stream",
     "text": [
      "[[1104   99]\n",
      " [ 102   52]]\n"
     ]
    }
   ],
   "source": [
    "#confusion matriks\n",
    "\n",
    "matrix = confusion_matrix(y_test, y_pred3)\n",
    "print(matrix)"
   ]
  },
  {
   "cell_type": "code",
   "execution_count": 99,
   "id": "8013a8f4",
   "metadata": {},
   "outputs": [
    {
     "data": {
      "image/png": "[encoded data removed]",
      "text/plain": [
       "<Figure size 360x360 with 1 Axes>"
      ]
     },
     "metadata": {
      "needs_background": "light"
     },
     "output_type": "display_data"
    }
   ],
   "source": [
    "#visualisasi confusion matriks\n",
    "\n",
    "cm = confusion_matrix(y_test, y_pred3)\n",
    "\n",
    "fig, ax = plt.subplots(figsize=(5,5))\n",
    "ax.imshow(cm)\n",
    "ax.grid(False)\n",
    "ax.xaxis.set(ticks=(0,1), ticklabels=('Predicted 0s', 'Predicted 1s'))\n",
    "ax.yaxis.set(ticks=(0,1), ticklabels=('Actual 0s', 'Actual 1s'))\n",
    "ax.set_ylim(1.5, -0.5)\n",
    "for i in range(2):\n",
    "    for j in range(2):\n",
    "        ax.text(j, i, cm[i, j], ha='center', va='center', color='red')\n",
    "\n",
    "plt.show()"
   ]
  },
  {
   "cell_type": "markdown",
   "id": "1d14809f",
   "metadata": {},
   "source": [
    "**Evaluasi Model**"
   ]
  },
  {
   "cell_type": "code",
   "execution_count": 100,
   "id": "914fce72",
   "metadata": {},
   "outputs": [
    {
     "name": "stdout",
     "output_type": "stream",
     "text": [
      "0.8518791451731761\n"
     ]
    }
   ],
   "source": [
    "#melihat nilai accuracy\n",
    "\n",
    "print(metrics.accuracy_score(y_test, y_pred3))"
   ]
  },
  {
   "cell_type": "code",
   "execution_count": 101,
   "id": "5b026423",
   "metadata": {
    "scrolled": true
   },
   "outputs": [
    {
     "name": "stdout",
     "output_type": "stream",
     "text": [
      "              precision    recall  f1-score   support\n",
      "\n",
      "           0       0.92      0.92      0.92      1203\n",
      "           1       0.34      0.34      0.34       154\n",
      "\n",
      "    accuracy                           0.85      1357\n",
      "   macro avg       0.63      0.63      0.63      1357\n",
      "weighted avg       0.85      0.85      0.85      1357\n",
      "\n"
     ]
    }
   ],
   "source": [
    "#laporan klasifikasi yang lebih lengkap\n",
    "\n",
    "print(classification_report(y_test, y_pred3))"
   ]
  },
  {
   "cell_type": "markdown",
   "id": "2b43c29a",
   "metadata": {},
   "source": [
    "**Kesimpulan**"
   ]
  },
  {
   "cell_type": "markdown",
   "id": "4772abf4",
   "metadata": {},
   "source": [
    "kesimpulan yang didapat dari klasifikasi menggunakan metode Decision Tree sebagai berikut:\n",
    "1. nilai akurasi terbaik dari metode Decision Tree sebesar 0.84 atau 84%.\n",
    "2. confusion matrix menghasilkan 1092 + 53 prediksi benar dan 101 + 111 prediksi salah.\n",
    "  * 1092 prediksi negatif yang benar = 1078 pengamatan pertama adalah 0 atau no yang diprediksi dengan benar.\n",
    "  * 101 prediksi negatif salah = 94 pengamatan yang salah sebagai 0 atau no.\n",
    "  * 111 prediksi positif yang salah = 123 pengamatan keempat adalah 0 yang salah diprediksi sebagai 1 atau yes.\n",
    "  * 53 prediksi positif yang benar = 62 pengamatan terakhir adalah yang diprediksi dengan benar sebagai 1 atau yes."
   ]
  },
  {
   "cell_type": "markdown",
   "id": "bb42ed37",
   "metadata": {},
   "source": [
    "# Random Forest"
   ]
  },
  {
   "cell_type": "markdown",
   "id": "d5617009",
   "metadata": {},
   "source": [
    "**Pre-processing**"
   ]
  },
  {
   "cell_type": "code",
   "execution_count": 102,
   "id": "dc633465",
   "metadata": {},
   "outputs": [],
   "source": [
    "#menentukan model klasifikasi\n",
    "rf = RandomForestClassifier()\n",
    "\n",
    "#training model\n",
    "rf.fit(X_train, y_train)\n",
    "\n",
    "#prediksi respon untuk dataset test\n",
    "y_pred4 = rf.predict(X_test)"
   ]
  },
  {
   "cell_type": "markdown",
   "id": "886f08db",
   "metadata": {},
   "source": [
    "**Confusion Matriks**"
   ]
  },
  {
   "cell_type": "code",
   "execution_count": 103,
   "id": "26ea590c",
   "metadata": {
    "scrolled": true
   },
   "outputs": [
    {
     "name": "stdout",
     "output_type": "stream",
     "text": [
      "[[1180   23]\n",
      " [ 132   22]]\n"
     ]
    }
   ],
   "source": [
    "#confusion matriks\n",
    "\n",
    "matrix = confusion_matrix(y_test, y_pred4)\n",
    "print(matrix)"
   ]
  },
  {
   "cell_type": "code",
   "execution_count": 104,
   "id": "16f6d4e7",
   "metadata": {
    "scrolled": true
   },
   "outputs": [
    {
     "data": {
      "image/png": "[encoded data removed]",
      "text/plain": [
       "<Figure size 360x360 with 1 Axes>"
      ]
     },
     "metadata": {
      "needs_background": "light"
     },
     "output_type": "display_data"
    }
   ],
   "source": [
    "#visualisasi confusion matriks\n",
    "\n",
    "cm = confusion_matrix(y_test, y_pred4)\n",
    "\n",
    "fig, ax = plt.subplots(figsize=(5,5))\n",
    "ax.imshow(cm)\n",
    "ax.grid(False)\n",
    "ax.xaxis.set(ticks=(0,1), ticklabels=('Predicted 0s', 'Predicted 1s'))\n",
    "ax.yaxis.set(ticks=(0,1), ticklabels=('Actual 0s', 'Actual 1s'))\n",
    "ax.set_ylim(1.5, -0.5)\n",
    "for i in range(2):\n",
    "    for j in range(2):\n",
    "        ax.text(j, i, cm[i, j], ha='center', va='center', color='red')\n",
    "\n",
    "plt.show()"
   ]
  },
  {
   "cell_type": "markdown",
   "id": "dc945b42",
   "metadata": {},
   "source": [
    "**Evaluasi Model**"
   ]
  },
  {
   "cell_type": "code",
   "execution_count": 105,
   "id": "cc15add7",
   "metadata": {},
   "outputs": [
    {
     "name": "stdout",
     "output_type": "stream",
     "text": [
      "0.8857774502579219\n"
     ]
    }
   ],
   "source": [
    "#melihat nilai accuracy\n",
    "\n",
    "print(metrics.accuracy_score(y_test, y_pred4))"
   ]
  },
  {
   "cell_type": "code",
   "execution_count": 106,
   "id": "bdbb142c",
   "metadata": {
    "scrolled": true
   },
   "outputs": [
    {
     "name": "stdout",
     "output_type": "stream",
     "text": [
      "              precision    recall  f1-score   support\n",
      "\n",
      "           0       0.90      0.98      0.94      1203\n",
      "           1       0.49      0.14      0.22       154\n",
      "\n",
      "    accuracy                           0.89      1357\n",
      "   macro avg       0.69      0.56      0.58      1357\n",
      "weighted avg       0.85      0.89      0.86      1357\n",
      "\n"
     ]
    }
   ],
   "source": [
    "#laporan klasifikasi yang lebih lengkap\n",
    "\n",
    "print(classification_report(y_test, y_pred4))"
   ]
  },
  {
   "cell_type": "markdown",
   "id": "c9c66c92",
   "metadata": {},
   "source": [
    "**Kesimpulan**"
   ]
  },
  {
   "cell_type": "markdown",
   "id": "899a9878",
   "metadata": {},
   "source": [
    "kesimpulan yang didapat dari klasifikasi menggunakan metode Random Forest sebagai berikut:\n",
    "1. nilai akurasi terbaik dari metode Random Forest sebesar 0.89 atau 89%.\n",
    "2. confusion matrix menghasilkan 1183 + 21 prediksi benar dan 133 + 20 prediksi salah.\n",
    "  * 1183 prediksi negatif yang benar = 1176 pengamatan pertama adalah 0 atau no yang diprediksi dengan benar.\n",
    "  * 133 prediksi negatif salah = 125 pengamatan yang salah sebagai 0 atau no.\n",
    "  * 20 prediksi positif yang salah = 25 pengamatan keempat adalah 0 yang salah diprediksi sebagai 1 atau yes.\n",
    "  * 21 prediksi positif yang benar = 31 pengamatan terakhir adalah yang diprediksi dengan benar sebagai 1 atau yes."
   ]
  },
  {
   "cell_type": "markdown",
   "id": "82469c7e",
   "metadata": {},
   "source": [
    "# Naive Bayes"
   ]
  },
  {
   "cell_type": "markdown",
   "id": "e880ba03",
   "metadata": {},
   "source": [
    "**Pre-processing**"
   ]
  },
  {
   "cell_type": "code",
   "execution_count": 107,
   "id": "b5abe8eb",
   "metadata": {},
   "outputs": [],
   "source": [
    "#menentukan model klasifikasi\n",
    "nb = GaussianNB()\n",
    "\n",
    "#training model\n",
    "nb.fit(X_train, y_train)\n",
    "\n",
    "#prediksi respon untuk dataset test\n",
    "y_pred5 = nb.predict(X_test)"
   ]
  },
  {
   "cell_type": "markdown",
   "id": "660d1990",
   "metadata": {},
   "source": [
    "**Confusion Matriks**"
   ]
  },
  {
   "cell_type": "code",
   "execution_count": 108,
   "id": "d04b27c0",
   "metadata": {
    "scrolled": true
   },
   "outputs": [
    {
     "name": "stdout",
     "output_type": "stream",
     "text": [
      "[[1093  110]\n",
      " [ 104   50]]\n"
     ]
    }
   ],
   "source": [
    "#confusion matriks\n",
    "\n",
    "matrix = confusion_matrix(y_test, y_pred5)\n",
    "print(matrix)"
   ]
  },
  {
   "cell_type": "code",
   "execution_count": 109,
   "id": "859a12cc",
   "metadata": {
    "scrolled": false
   },
   "outputs": [
    {
     "data": {
      "image/png": "[encoded data removed]",
      "text/plain": [
       "<Figure size 360x360 with 1 Axes>"
      ]
     },
     "metadata": {
      "needs_background": "light"
     },
     "output_type": "display_data"
    }
   ],
   "source": [
    "#visualisasi confusion matriks\n",
    "\n",
    "cm = confusion_matrix(y_test, y_pred5)\n",
    "\n",
    "fig, ax = plt.subplots(figsize=(5,5))\n",
    "ax.imshow(cm)\n",
    "ax.grid(False)\n",
    "ax.xaxis.set(ticks=(0,1), ticklabels=('Predicted 0s', 'Predicted 1s'))\n",
    "ax.yaxis.set(ticks=(0,1), ticklabels=('Actual 0s', 'Actual 1s'))\n",
    "ax.set_ylim(1.5, -0.5)\n",
    "for i in range(2):\n",
    "    for j in range(2):\n",
    "        ax.text(j, i, cm[i, j], ha='center', va='center', color='red')\n",
    "\n",
    "plt.show()"
   ]
  },
  {
   "cell_type": "markdown",
   "id": "13135bcc",
   "metadata": {},
   "source": [
    "**Evaluasi Model**"
   ]
  },
  {
   "cell_type": "code",
   "execution_count": 110,
   "id": "c908c3b0",
   "metadata": {},
   "outputs": [
    {
     "name": "stdout",
     "output_type": "stream",
     "text": [
      "0.8422991893883567\n"
     ]
    }
   ],
   "source": [
    "#melihat nilai accuracy\n",
    "\n",
    "print(metrics.accuracy_score(y_test, y_pred5))"
   ]
  },
  {
   "cell_type": "code",
   "execution_count": 111,
   "id": "7d588d7d",
   "metadata": {
    "scrolled": true
   },
   "outputs": [
    {
     "name": "stdout",
     "output_type": "stream",
     "text": [
      "              precision    recall  f1-score   support\n",
      "\n",
      "           0       0.91      0.91      0.91      1203\n",
      "           1       0.31      0.32      0.32       154\n",
      "\n",
      "    accuracy                           0.84      1357\n",
      "   macro avg       0.61      0.62      0.61      1357\n",
      "weighted avg       0.84      0.84      0.84      1357\n",
      "\n"
     ]
    }
   ],
   "source": [
    "#laporan klasifikasi yang lebih lengkap\n",
    "\n",
    "print(classification_report(y_test, y_pred5))"
   ]
  },
  {
   "cell_type": "markdown",
   "id": "201ecfe9",
   "metadata": {},
   "source": [
    "**Kesimpulan**"
   ]
  },
  {
   "cell_type": "markdown",
   "id": "6ffef84b",
   "metadata": {},
   "source": [
    "kesimpulan yang didapat dari klasifikasi menggunakan metode Naive Bayes sebagai berikut:\n",
    "1. nilai akurasi terbaik dari metode Naive Bayes sebesar 0.84 atau 84%.\n",
    "2. confusion matrix menghasilkan 1093 + 50 prediksi benar dan 104 + 110 prediksi salah.\n",
    "  * 1093 prediksi negatif benar = 1076 pengamatan pertama adalah 0 atau no yang diprediksi dengan benar.\n",
    "  * 104 prediksi negatif salah = 103 pengamatan yang salah sebagai 0 atau no.\n",
    "  * 110 prediksi positif salah = 130 pengamatan keempat adalah 0 yang salah diprediksi sebagai 1 atau yes.\n",
    "  * 50 prediksi positif benar = 53 pengamatan terakhir adalah yang diprediksi dengan benar sebagai 1 atau yes."
   ]
  },
  {
   "cell_type": "markdown",
   "id": "4d128a26",
   "metadata": {},
   "source": [
    "# Perbandingan Algoritma"
   ]
  },
  {
   "cell_type": "code",
   "execution_count": 112,
   "id": "f30abc25",
   "metadata": {
    "scrolled": true
   },
   "outputs": [
    {
     "name": "stdout",
     "output_type": "stream",
     "text": [
      "Accuracy of Logistic Regression: 0.89020\n",
      "Accuracy of KNN: 0.88062\n",
      "Accuracy of SVM: 0.88651\n",
      "Accuracy of Decision Tree: 0.85188\n",
      "Accuracy of Random forest: 0.88578\n",
      "Accuracy of Naive Bayes: 0.84230\n"
     ]
    }
   ],
   "source": [
    "print('Accuracy of Logistic Regression: {:.5f}'.format(metrics.accuracy_score(y_test, y_pred)))\n",
    "print('Accuracy of KNN: {:.5f}'.format(metrics.accuracy_score(y_test, y_pred1)))\n",
    "print('Accuracy of SVM: {:.5f}'.format(metrics.accuracy_score(y_test, y_pred2)))\n",
    "print('Accuracy of Decision Tree: {:.5f}'.format(metrics.accuracy_score(y_test, y_pred3)))\n",
    "print('Accuracy of Random forest: {:.5f}'.format(metrics.accuracy_score(y_test, y_pred4)))\n",
    "print('Accuracy of Naive Bayes: {:.5f}'.format(metrics.accuracy_score(y_test, y_pred5)))"
   ]
  },
  {
   "cell_type": "markdown",
   "id": "e305d10d",
   "metadata": {},
   "source": [
    "# Kesimpulan"
   ]
  },
  {
   "cell_type": "markdown",
   "id": "a1851b55",
   "metadata": {},
   "source": [
    "berdasarkan output perbandingan 6 algoritma diatas, untuk mencari algoritma yang baik dalam melakukan prediksi apakah klien akan berlangganan (ya/tidak) deposito berjangka (variabel y) dapat dilihat dari nilai akurasi yang paling tinggi dengan menggunakan data training 70% dan testing 30%. sehingga, didapat algoritma Logistic Regression memiliki nilai akurasi yang paling tinggi sebesar 0.88946 atau 88.9% artinya model algoritma Logistic Regression dapat memprediksi dengan akurat."
   ]
  }
 ],
 "metadata": {
  "kernelspec": {
   "display_name": "Python 3 (ipykernel)",
   "language": "python",
   "name": "python3"
  },
  "language_info": {
   "codemirror_mode": {
    "name": "ipython",
    "version": 3
   },
   "file_extension": ".py",
   "mimetype": "text/x-python",
   "name": "python",
   "nbconvert_exporter": "python",
   "pygments_lexer": "ipython3",
   "version": "3.9.12"
  },
  "toc": {
   "base_numbering": 1,
   "nav_menu": {},
   "number_sections": true,
   "sideBar": true,
   "skip_h1_title": false,
   "title_cell": "Table of Contents",
   "title_sidebar": "Contents",
   "toc_cell": false,
   "toc_position": {
    "height": "calc(100% - 180px)",
    "left": "10px",
    "top": "150px",
    "width": "273.2px"
   },
   "toc_section_display": true,
   "toc_window_display": true
  }
 },
 "nbformat": 4,
 "nbformat_minor": 5
}
